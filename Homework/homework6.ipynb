{
 "cells": [
  {
   "cell_type": "code",
   "execution_count": 1,
   "metadata": {},
   "outputs": [],
   "source": [
    "class Shape():\n",
    "    def area():\n",
    "        pass"
   ]
  },
  {
   "cell_type": "code",
   "execution_count": 4,
   "metadata": {},
   "outputs": [
    {
     "name": "stdout",
     "output_type": "stream",
     "text": [
      "(3, 3, 90)\n",
      "(8, 8, 90)\n",
      "(1, 1, 90)\n"
     ]
    }
   ],
   "source": [
    "class Square (Shape):\n",
    "    def __init__(self, lenght, width, angle):\n",
    "        self.lenght = lenght\n",
    "        self.width = width\n",
    "        self.angle = angle\n",
    "        assert self.angle == 90 and self.lenght == self.width\n",
    "        \n",
    "    def area(self):\n",
    "        return self.lenght * self.width\n",
    "    \n",
    "my_square = (3, 3, 90)\n",
    "my_square2 = (8, 8, 90)\n",
    "my_square3 = (1, 1, 90)\n",
    "\n",
    "print(my_square)\n",
    "print(my_square2)\n",
    "print(my_square3)"
   ]
  }
 ],
 "metadata": {
  "kernelspec": {
   "display_name": "Python 3",
   "language": "python",
   "name": "python3"
  },
  "language_info": {
   "codemirror_mode": {
    "name": "ipython",
    "version": 3
   },
   "file_extension": ".py",
   "mimetype": "text/x-python",
   "name": "python",
   "nbconvert_exporter": "python",
   "pygments_lexer": "ipython3",
   "version": "3.12.0"
  }
 },
 "nbformat": 4,
 "nbformat_minor": 2
}
