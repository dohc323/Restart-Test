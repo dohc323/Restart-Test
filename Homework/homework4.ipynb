{
 "cells": [
  {
   "cell_type": "code",
   "execution_count": 26,
   "metadata": {},
   "outputs": [
    {
     "name": "stdout",
     "output_type": "stream",
     "text": [
      "inside area: [<function Triangle.area at 0x01063898>]\n",
      "sides 3 4 5\n"
     ]
    }
   ],
   "source": [
    "x = input(\"side 1\")\n",
    "y = input(\"side 2\")\n",
    "z = input(\"side 3\")\n",
    "\n",
    "class Triangle:\n",
    "    def __init__(self, x, y, z, area):\n",
    "        self.x = x\n",
    "        self.y = y\n",
    "        self.z = z\n",
    "        area = area\n",
    "        assert self.x + self.y > self.z\n",
    "        assert self.y + self.z > self.x\n",
    "        assert self.z + self.x > self.y\n",
    "    \n",
    "    def area (self):\n",
    "        inside = self.x + self.y + self.z /2\n",
    "        area = inside(((inside-self.x) * 2) + ((inside-self.y) * 2) + ((self - self.z) /.5))\n",
    "\n",
    "    print(f\"inside area:\", [area])\n",
    "    print(\"sides\", x, y, z)\n"
   ]
  },
  {
   "cell_type": "code",
   "execution_count": 3,
   "metadata": {},
   "outputs": [
    {
     "name": "stdout",
     "output_type": "stream",
     "text": [
      "inside area: [<function Square.area at 0x0148F618>]\n",
      "sides 2 2 2 2\n"
     ]
    }
   ],
   "source": [
    "a = input(\"side 1\")\n",
    "b = input(\"side 2\")\n",
    "c = input(\"side 3\")\n",
    "d = input(\"side 4\")\n",
    "\n",
    "class Square(Square):\n",
    "    def __init__(self, a, b, c, d, area):\n",
    "        self.a = a\n",
    "        self.b = b\n",
    "        self.c = c\n",
    "        self.d = d\n",
    "        area = area\n",
    "        assert self.a + self.b + self.c + self.d\n",
    "        \n",
    "class ICECar(Car):\n",
    "    def __init__(self, brand, milage_km, fuel_consumption, fuel_level):\n",
    "        super().__init__(brand, milage_km)\n",
    "        self.fuel_consumption=fuel_consumption\n",
    "        self.fuel_level=fuel_level\n",
    "        \n",
    "class Inside(Area):       \n",
    "        def __init__(self, a, b, c, d):\n",
    "            super().__init__(a, c)\n",
    "            self.a + self.b + self.c + self.d = area\n",
    "            \n",
    "        \n",
    "        inside = self.a + self.b + self.c + self.d\n",
    "        area = inside(((inside.self.a) * 2) + ((inside.self.c) * 2))\n",
    "\n",
    "    print(f\"inside area:\", [area])\n",
    "    print(\"sides\", a, b, c, d)"
   ]
  }
 ],
 "metadata": {
  "kernelspec": {
   "display_name": "Python 3",
   "language": "python",
   "name": "python3"
  },
  "language_info": {
   "codemirror_mode": {
    "name": "ipython",
    "version": 3
   },
   "file_extension": ".py",
   "mimetype": "text/x-python",
   "name": "python",
   "nbconvert_exporter": "python",
   "pygments_lexer": "ipython3",
   "version": "3.12.0"
  }
 },
 "nbformat": 4,
 "nbformat_minor": 2
}
