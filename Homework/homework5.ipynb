{
 "cells": [
  {
   "cell_type": "code",
   "execution_count": 5,
   "metadata": {},
   "outputs": [
    {
     "name": "stdout",
     "output_type": "stream",
     "text": [
      "{'brand': 'Telsa', 'milage_km': 22600, 'range': 400}\n",
      "{'brand': 'Telsa', 'milage_km': 22700, 'range': 300}\n",
      "{'brand': 'Mazda', 'milage_km': 520, 'fuel_consumption': 50, 'fuel_level': 15.0}\n",
      "<__main__.ICECar object at 0x00D6BA98>\n"
     ]
    }
   ],
   "source": [
    "class Car:\n",
    "    def __init__ (self, brand, milage_km):\n",
    "        self.brand=brand\n",
    "        self.milage_km=milage_km\n",
    "    \n",
    "    def drive(self, distance_km):\n",
    "        self.milage_km+=distance_km\n",
    "        \n",
    "my_car = Car(brand= \"Mazda\", milage_km= 22000)\n",
    "        \n",
    "class EleccticCar(Car):\n",
    "    def __init__(self, brand, milage_km, range):\n",
    "        super().__init__(brand, milage_km)\n",
    "        self.range=range\n",
    "        \n",
    "    def drive(self, distance_km):\n",
    "        self.milage_km+=distance_km\n",
    "        self.range-=distance_km\n",
    "\n",
    "class ICECar(Car):\n",
    "    def __init__(self, brand, milage_km, fuel_consumption, fuel_level):\n",
    "        super().__init__(brand, milage_km)\n",
    "        self.fuel_consumption=fuel_consumption\n",
    "        self.fuel_level=fuel_level\n",
    "        \n",
    "    def drive(self, distance_km):\n",
    "        self.milage_km+=distance_km\n",
    "        self.fuel_level-=distance_km * self.fuel_consumption / 100\n",
    "\n",
    "my_ev = EleccticCar(brand=\"Telsa\", milage_km= 22500, range=500)\n",
    "my_ev.drive(100)\n",
    "\n",
    "my_ICECar = ICECar(\"Mazda\",500, 50, 25)\n",
    "my_ICECar.drive(distance_km=20)\n",
    "\n",
    "print(my_ev.__dict__)\n",
    "my_ev.drive(100)\n",
    "print(my_ev.__dict__)\n",
    "print(my_ICECar.__dict__)\n",
    "print(my_ICECar)\n"
   ]
  }
 ],
 "metadata": {
  "kernelspec": {
   "display_name": "Python 3",
   "language": "python",
   "name": "python3"
  },
  "language_info": {
   "codemirror_mode": {
    "name": "ipython",
    "version": 3
   },
   "file_extension": ".py",
   "mimetype": "text/x-python",
   "name": "python",
   "nbconvert_exporter": "python",
   "pygments_lexer": "ipython3",
   "version": "3.12.0"
  }
 },
 "nbformat": 4,
 "nbformat_minor": 2
}
