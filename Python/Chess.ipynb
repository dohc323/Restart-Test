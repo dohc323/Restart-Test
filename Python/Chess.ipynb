{
 "cells": [
  {
   "cell_type": "code",
   "execution_count": 1,
   "metadata": {},
   "outputs": [
    {
     "ename": "ModuleNotFoundError",
     "evalue": "No module named 'pygame'",
     "output_type": "error",
     "traceback": [
      "\u001b[1;31m---------------------------------------------------------------------------\u001b[0m",
      "\u001b[1;31mModuleNotFoundError\u001b[0m                       Traceback (most recent call last)",
      "\u001b[1;32mc:\\Users\\Scott\\Desktop\\Restart Test\\Python\\Chess.ipynb Cell 1\u001b[0m line \u001b[0;36m1\n\u001b[1;32m----> <a href='vscode-notebook-cell:/c%3A/Users/Scott/Desktop/Restart%20Test/Python/Chess.ipynb#W0sZmlsZQ%3D%3D?line=0'>1</a>\u001b[0m \u001b[39mimport\u001b[39;00m \u001b[39mpygame\u001b[39;00m\n\u001b[0;32m      <a href='vscode-notebook-cell:/c%3A/Users/Scott/Desktop/Restart%20Test/Python/Chess.ipynb#W0sZmlsZQ%3D%3D?line=2'>3</a>\u001b[0m pygame\u001b[39m.\u001b[39minit()\n\u001b[0;32m      <a href='vscode-notebook-cell:/c%3A/Users/Scott/Desktop/Restart%20Test/Python/Chess.ipynb#W0sZmlsZQ%3D%3D?line=3'>4</a>\u001b[0m WIDTH \u001b[39m=\u001b[39m \u001b[39m1000\u001b[39m\n",
      "\u001b[1;31mModuleNotFoundError\u001b[0m: No module named 'pygame'"
     ]
    }
   ],
   "source": [
    "import pygame\n",
    "\n",
    "pygame.init()\n",
    "WIDTH = 1000\n",
    "HEIGHT = 900\n",
    "screen = pygame.display.set_mode([WIDTH, HEIGHT])\n",
    "font = pygame.font.Font('freesansbold.ttf', 20)\n",
    "big_font = pygame.font.Font('freesansbold.ttf', 50)\n",
    "timer = pygame.time.Clock()\n",
    "fps = 60\n",
    "\n",
    "run = True\n",
    "while run:\n",
    "    timer.tick(fps)\n",
    "    screen.fill('green')\n",
    "    \n",
    "    for event in pygame.event.get():\n",
    "        if event.type == pygame.QUIT:\n",
    "            run = False\n",
    "    \n",
    "    pygame.display.flip()"
   ]
  }
 ],
 "metadata": {
  "kernelspec": {
   "display_name": "Python 3",
   "language": "python",
   "name": "python3"
  },
  "language_info": {
   "codemirror_mode": {
    "name": "ipython",
    "version": 3
   },
   "file_extension": ".py",
   "mimetype": "text/x-python",
   "name": "python",
   "nbconvert_exporter": "python",
   "pygments_lexer": "ipython3",
   "version": "3.12.0"
  }
 },
 "nbformat": 4,
 "nbformat_minor": 2
}
