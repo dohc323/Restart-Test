{
 "cells": [
  {
   "cell_type": "code",
   "execution_count": 11,
   "metadata": {},
   "outputs": [
    {
     "name": "stdout",
     "output_type": "stream",
     "text": [
      "3\n"
     ]
    }
   ],
   "source": [
    "i = 3\n",
    "print(i)"
   ]
  },
  {
   "cell_type": "code",
   "execution_count": 12,
   "metadata": {},
   "outputs": [
    {
     "data": {
      "text/plain": [
       "'Hello World'"
      ]
     },
     "execution_count": 12,
     "metadata": {},
     "output_type": "execute_result"
    }
   ],
   "source": [
    "j =\"Hello World\"\n",
    "j"
   ]
  },
  {
   "cell_type": "code",
   "execution_count": 13,
   "metadata": {},
   "outputs": [
    {
     "data": {
      "text/plain": [
       "''"
      ]
     },
     "execution_count": 13,
     "metadata": {},
     "output_type": "execute_result"
    }
   ],
   "source": [
    "b = input(\"What is your name\")\n",
    "b"
   ]
  },
  {
   "cell_type": "code",
   "execution_count": 14,
   "metadata": {},
   "outputs": [
    {
     "data": {
      "text/plain": [
       "'stevestevesteve'"
      ]
     },
     "execution_count": 14,
     "metadata": {},
     "output_type": "execute_result"
    }
   ],
   "source": [
    "s = \"stevestevesteve\"\n",
    "s = s.lower()\n",
    "s"
   ]
  },
  {
   "cell_type": "code",
   "execution_count": 15,
   "metadata": {},
   "outputs": [
    {
     "data": {
      "text/plain": [
       "'STEVESTEVESTEVE'"
      ]
     },
     "execution_count": 15,
     "metadata": {},
     "output_type": "execute_result"
    }
   ],
   "source": [
    "s = \"stevestevesteve\"\n",
    "s = s.upper()\n",
    "s"
   ]
  },
  {
   "cell_type": "code",
   "execution_count": 16,
   "metadata": {},
   "outputs": [
    {
     "data": {
      "text/plain": [
       "['Steve', 1, 5, ['Jim, John, George', 8]]"
      ]
     },
     "execution_count": 16,
     "metadata": {},
     "output_type": "execute_result"
    }
   ],
   "source": [
    "l =[\"Steve\", 1 , 5, [\"Jim, John, George\", 8]]\n",
    "l"
   ]
  },
  {
   "cell_type": "code",
   "execution_count": 17,
   "metadata": {},
   "outputs": [
    {
     "data": {
      "text/plain": [
       "2"
      ]
     },
     "execution_count": 17,
     "metadata": {},
     "output_type": "execute_result"
    }
   ],
   "source": [
    "len(l[-1])"
   ]
  },
  {
   "cell_type": "code",
   "execution_count": 18,
   "metadata": {},
   "outputs": [
    {
     "name": "stdout",
     "output_type": "stream",
     "text": [
      "[True]\n",
      "[True, 'this is a string']\n",
      "[19, True, 'this is a string']\n",
      "[19, True]\n"
     ]
    }
   ],
   "source": [
    "new_list = [ True]\n",
    "print (new_list)\n",
    "new_list.append (\"this is a string\")\n",
    "print (new_list)\n",
    "new_list.insert(0,19)\n",
    "print(new_list)\n",
    "new_list.pop()\n",
    "print(new_list)\n"
   ]
  },
  {
   "cell_type": "code",
   "execution_count": 19,
   "metadata": {},
   "outputs": [
    {
     "data": {
      "text/plain": [
       "[5, 4, 3, 2, 1, 0]"
      ]
     },
     "execution_count": 19,
     "metadata": {},
     "output_type": "execute_result"
    }
   ],
   "source": [
    "number_list = [0, 5, 3, 1, 2, 4]\n",
    "number_list.sort(reverse=True)\n",
    "number_list   #Give reverse order"
   ]
  },
  {
   "cell_type": "code",
   "execution_count": 20,
   "metadata": {},
   "outputs": [
    {
     "name": "stdout",
     "output_type": "stream",
     "text": [
      "[5, 4, 3, 2, 1, 0]\n",
      "[0, 5, 3, 1, 2, 4]\n"
     ]
    }
   ],
   "source": [
    "number_list = [0, 5, 3, 1, 2, 4]\n",
    "print(sorted(number_list, reverse=True))\n",
    "print(number_list)\n",
    "#Copy not change"
   ]
  },
  {
   "cell_type": "code",
   "execution_count": 21,
   "metadata": {},
   "outputs": [
    {
     "name": "stdout",
     "output_type": "stream",
     "text": [
      "['Alf', 'Andrew', 'George', 'Jim', 'John', 'Steve']\n",
      "['Jim', 'John', 'George', 'Alf', 'Steve', 'Andrew']\n"
     ]
    }
   ],
   "source": [
    "list_of_strings = [\"Jim\", \"John\", \"George\", \"Alf\", \"Steve\", \"Andrew\"]\n",
    "print(sorted(list_of_strings, reverse=False))\n",
    "print(list_of_strings)\n",
    "#sorts out \"Caps\" first"
   ]
  },
  {
   "cell_type": "code",
   "execution_count": 22,
   "metadata": {},
   "outputs": [
    {
     "name": "stdout",
     "output_type": "stream",
     "text": [
      "5\n"
     ]
    },
    {
     "name": "stdout",
     "output_type": "stream",
     "text": [
      "In a year you will be 5\n"
     ]
    }
   ],
   "source": [
    "print(int(\"5\")) \n",
    "Some_input = input(\"How old are you\")\n",
    "Some_input = int (Some_input) + 1\n",
    "print(f\"In a year you will be {Some_input}\")\n",
    "# f is to combind string and int"
   ]
  },
  {
   "cell_type": "code",
   "execution_count": 23,
   "metadata": {},
   "outputs": [
    {
     "name": "stdout",
     "output_type": "stream",
     "text": [
      "61\n"
     ]
    }
   ],
   "source": [
    "HOURLY_SALARY = 50\n",
    "from typing import Final\n",
    "NEW_HOURLY_SALARY:Final[int] = 60\n",
    "NEW_HOURLY_SALARY = 61\n",
    "#Red line tells you, you have made an error if prints 61 you are a dummy\n",
    "print(NEW_HOURLY_SALARY)"
   ]
  },
  {
   "cell_type": "code",
   "execution_count": 24,
   "metadata": {},
   "outputs": [
    {
     "ename": "SyntaxError",
     "evalue": "'(' was never closed (2732659458.py, line 4)",
     "output_type": "error",
     "traceback": [
      "\u001b[1;36m  Cell \u001b[1;32mIn[24], line 4\u001b[1;36m\u001b[0m\n\u001b[1;33m    print(sorted(list_of_strings, reverse=False)\u001b[0m\n\u001b[1;37m         ^\u001b[0m\n\u001b[1;31mSyntaxError\u001b[0m\u001b[1;31m:\u001b[0m '(' was never closed\n"
     ]
    }
   ],
   "source": [
    "list_of_strings = [\"Jim\", \"John\", \"George\", \"Alf\", \"Steve\", \"Andrew\"]\n",
    "print(list_of_strings)\n",
    "list_of_strings.pop(4)\n",
    "print(sorted(list_of_strings, reverse=False)\n",
    "print(list_of_strings)"
   ]
  },
  {
   "cell_type": "code",
   "execution_count": null,
   "metadata": {},
   "outputs": [
    {
     "name": "stdout",
     "output_type": "stream",
     "text": [
      "{'cherrys', 'orange', 'apples', 'bananas', 'mellons'}\n",
      "{'apples'}\n",
      "{'orange', 'bananas'}\n",
      "{'cherrys', 'mellons'}\n"
     ]
    },
    {
     "data": {
      "text/plain": [
       "['apples', 'bananas', 'cherrys', 'mellons', 'orange']"
      ]
     },
     "execution_count": 27,
     "metadata": {},
     "output_type": "execute_result"
    }
   ],
   "source": [
    "my_set = {\"apples\", \"bananas\", \"orange\"}\n",
    "another_set = {\"apples\", \"cherrys\", \"mellons\"}\n",
    "union = my_set.union(another_set)\n",
    "print(union)\n",
    "intersection = my_set.intersection(another_set)\n",
    "print (intersection)\n",
    "only_mine = my_set.difference(another_set)\n",
    "print(only_mine)\n",
    "only_another_set = another_set.difference(my_set)\n",
    "print(only_another_set)\n",
    "sorted(list(union))\n"
   ]
  },
  {
   "cell_type": "code",
   "execution_count": null,
   "metadata": {},
   "outputs": [
    {
     "name": "stdout",
     "output_type": "stream",
     "text": [
      "steve\n",
      "40\n",
      "41\n",
      "40\n"
     ]
    }
   ],
   "source": [
    "my_info = {\"name\": \"steve\", \"age\": 40}\n",
    "name = my_info [\"name\"]\n",
    "age = my_info [\"age\"]\n",
    "print(name)\n",
    "print(age)\n",
    "my_info [\"age\"] = my_info[\"age\"] + 1\n",
    "print(my_info[\"age\"])\n",
    "print(age)\n"
   ]
  },
  {
   "cell_type": "code",
   "execution_count": null,
   "metadata": {},
   "outputs": [
    {
     "name": "stdout",
     "output_type": "stream",
     "text": [
      "{'Pets': 'Dog', 'Vets': 'Pet Super Care', 'Owners': ['Steve', 'Darcy', 'John']}\n"
     ]
    }
   ],
   "source": [
    "empity = dict()\n",
    "empity[\"Pets\"] = \"Dog\"\n",
    "empity[\"Vets\"] = \"Pet Super Care\"\n",
    "empity[\"Owners\"] = [\"Steve\", \"Darcy\", \"John\"]\n",
    "print(empity)\n"
   ]
  },
  {
   "cell_type": "code",
   "execution_count": null,
   "metadata": {},
   "outputs": [
    {
     "name": "stdout",
     "output_type": "stream",
     "text": [
      "The quick brown fox jumps over the lazy dog!\n",
      "Once upon a time, there was......\n",
      "The end\n"
     ]
    }
   ],
   "source": [
    "f = open (\"text.txt\", \"r\")\n",
    "print(f.read())"
   ]
  },
  {
   "cell_type": "code",
   "execution_count": null,
   "metadata": {},
   "outputs": [
    {
     "name": "stdout",
     "output_type": "stream",
     "text": [
      "The quick brown fox jumps over the lazy dog!\n",
      "\n"
     ]
    }
   ],
   "source": [
    "f = open (\"text.txt\", \"r\")\n",
    "print(f.readline())"
   ]
  },
  {
   "cell_type": "code",
   "execution_count": null,
   "metadata": {},
   "outputs": [
    {
     "name": "stdout",
     "output_type": "stream",
     "text": [
      "The quick brown fox jumps over the lazy dog!\n",
      "\n",
      "Once upon a time, there was......\n",
      "\n"
     ]
    }
   ],
   "source": [
    "f = open (\"text.txt\", \"r\")\n",
    "print(f.readline())\n",
    "print(f.readline())"
   ]
  },
  {
   "cell_type": "code",
   "execution_count": null,
   "metadata": {},
   "outputs": [
    {
     "name": "stdout",
     "output_type": "stream",
     "text": [
      "The quick brown fox jumps over the lazy dog!\n",
      "\n",
      "Once upon a time, there was......\n",
      "\n",
      "The end\n"
     ]
    }
   ],
   "source": [
    "f = open (\"text.txt\", \"r\")\n",
    "for line in f: \n",
    "    print (line)\n"
   ]
  },
  {
   "cell_type": "code",
   "execution_count": null,
   "metadata": {},
   "outputs": [
    {
     "name": "stdout",
     "output_type": "stream",
     "text": [
      "THE QUICK BROWN FOX JUMPS OVER THE LAZY DOG!\n",
      "\n",
      "ONCE UPON A TIME, THERE WAS......\n",
      "\n",
      "THE END\n"
     ]
    }
   ],
   "source": [
    "f = open (\"text.txt\", \"r\")\n",
    "for line in f: \n",
    "    print (line.upper())"
   ]
  },
  {
   "cell_type": "code",
   "execution_count": null,
   "metadata": {},
   "outputs": [
    {
     "name": "stdout",
     "output_type": "stream",
     "text": [
      "THE QUICK BROWN FOX JUMPS OVER THE LAZY DOG!\n",
      "\n",
      "everytime\n",
      "ONCE UPON A TIME, THERE WAS......\n",
      "\n",
      "everytime\n",
      "THE END\n",
      "everytime\n",
      "finish\n"
     ]
    }
   ],
   "source": [
    "f = open (\"text.txt\", \"r\")\n",
    "for line in f: \n",
    "    print (line.upper())\n",
    "    print (\"everytime\")\n",
    "print(\"finish\")"
   ]
  },
  {
   "cell_type": "code",
   "execution_count": null,
   "metadata": {},
   "outputs": [
    {
     "name": "stdout",
     "output_type": "stream",
     "text": [
      "you are a dog person\n"
     ]
    }
   ],
   "source": [
    "fav_pet = input(\"what is your fav pet\")\n",
    "fav_pet = fav_pet.lower()\n",
    "if fav_pet == \"dogs\":\n",
    "    print (\"you are a dog person\")\n",
    "elif fav_pet == \"cat\":\n",
    "    print (\"you are a cat person\")\n",
    "else:\n",
    "    print(\"You dont have a pet\")"
   ]
  },
  {
   "cell_type": "code",
   "execution_count": null,
   "metadata": {},
   "outputs": [
    {
     "name": "stdout",
     "output_type": "stream",
     "text": [
      "\n",
      "cat\n"
     ]
    }
   ],
   "source": [
    "fav_pet = \"\"\n",
    "fav_pet = fav_pet.lower()\n",
    "while fav_pet != \"cat\" and fav_pet != \"dog\":\n",
    "    fav_pet = input(\"cat or dog\")\n",
    "    print(fav_pet)"
   ]
  },
  {
   "cell_type": "code",
   "execution_count": null,
   "metadata": {},
   "outputs": [
    {
     "name": "stdout",
     "output_type": "stream",
     "text": [
      "cat\n"
     ]
    }
   ],
   "source": [
    "fav = \"\"\n",
    "while fav != \"cat\" and fav != \"dog\":\n",
    "    fav = input(\"cat or dog\")\n",
    "    print(fav)"
   ]
  },
  {
   "cell_type": "code",
   "execution_count": null,
   "metadata": {},
   "outputs": [
    {
     "name": "stdout",
     "output_type": "stream",
     "text": [
      "bird\n"
     ]
    }
   ],
   "source": [
    "fav_pet = \"\"\n",
    "fav_pet = fav_pet.lower()\n",
    "while fav_pet != \"cat\" and fav_pet != \"dog\":\n",
    "    fav_pet = input(\"cat or dog\")\n",
    "    if fav_pet == \"human\":\n",
    "        break\n",
    "    print(fav_pet)"
   ]
  },
  {
   "cell_type": "code",
   "execution_count": null,
   "metadata": {},
   "outputs": [
    {
     "name": "stdout",
     "output_type": "stream",
     "text": [
      "x = 2\n"
     ]
    }
   ],
   "source": [
    "x = 2\n",
    "\n",
    "match x:\n",
    "    case 1:\n",
    "        print(\"x = 1\")\n",
    "    case 2:\n",
    "        print(\"x = 2\")\n",
    "    case _:\n",
    "        print(\"I dont want to talk about x\")"
   ]
  },
  {
   "cell_type": "code",
   "execution_count": null,
   "metadata": {},
   "outputs": [
    {
     "name": "stdout",
     "output_type": "stream",
     "text": [
      "Coloe is orange\n"
     ]
    }
   ],
   "source": [
    "from enum import Enum\n",
    "\n",
    "class Color (Enum):\n",
    "    RED = 1\n",
    "    BLUE = 2\n",
    "    YELLOW = 3\n",
    "    GREEN = 4\n",
    "    ORANGE = 5\n",
    "\n",
    "my_color = Color.ORANGE\n",
    "\n",
    "match my_color:\n",
    "    case Color.RED:\n",
    "        print(\"Color is red\")\n",
    "    case Color.BLUE:\n",
    "        print(\"Color is blue\")\n",
    "    case Color.YELLOW:\n",
    "        print(\"Color is yellow\")\n",
    "    case Color.GREEN:\n",
    "        print(\"Color is green\")\n",
    "    case Color.ORANGE:\n",
    "        print(\"Coloe is orange\")\n",
    "    case _:\n",
    "        print(\"No Color\")"
   ]
  },
  {
   "cell_type": "code",
   "execution_count": null,
   "metadata": {},
   "outputs": [
    {
     "name": "stdout",
     "output_type": "stream",
     "text": [
      "0\n",
      "1\n",
      "2\n",
      "3\n",
      "4\n"
     ]
    }
   ],
   "source": [
    "for i in range(5):\n",
    "    print(i)"
   ]
  },
  {
   "cell_type": "code",
   "execution_count": null,
   "metadata": {},
   "outputs": [
    {
     "name": "stdout",
     "output_type": "stream",
     "text": [
      "[8, 5, 3, 7]\n"
     ]
    }
   ],
   "source": [
    "my_numbers = [8, 5, 3, 7]\n",
    "print (my_numbers)\n"
   ]
  },
  {
   "cell_type": "code",
   "execution_count": null,
   "metadata": {},
   "outputs": [
    {
     "name": "stdout",
     "output_type": "stream",
     "text": [
      "[16, 10, 6, 14]\n"
     ]
    }
   ],
   "source": [
    "my_numbers = [8, 5, 3, 7]\n",
    "new_numbers = [2*i for i in my_numbers]\n",
    "print(new_numbers)"
   ]
  },
  {
   "cell_type": "code",
   "execution_count": null,
   "metadata": {},
   "outputs": [
    {
     "name": "stdout",
     "output_type": "stream",
     "text": [
      "First Name. Steve\n",
      "Last Name. Law\n",
      "Age. 40\n",
      "Address. 123 Abc Street\n"
     ]
    }
   ],
   "source": [
    "my_info = {\"First Name\": \"Steve\", \"Last Name\": \"Law\", \"Age\": 40, \"Address\": \"123 Abc Street\"}\n",
    "for key,value in my_info.items():\n",
    "    print(f\"{key}. {value}\")"
   ]
  },
  {
   "cell_type": "code",
   "execution_count": null,
   "metadata": {},
   "outputs": [
    {
     "name": "stdout",
     "output_type": "stream",
     "text": [
      "['Apple', 'Banana', 'Grapes', 'Oranges']\n",
      "Apple\n",
      "['Banana', 'Grapes', 'Oranges']\n",
      "['Grapes', 'Oranges']\n",
      "['Grapes', 'Oranges', 'Milk']\n"
     ]
    }
   ],
   "source": [
    "my_queue = []\n",
    "my_queue.append(\"Apple\")\n",
    "my_queue.append(\"Banana\")\n",
    "my_queue.append(\"Grapes\")\n",
    "my_queue.append(\"Oranges\")\n",
    "print(my_queue)\n",
    "print(my_queue.pop(0))\n",
    "print(my_queue)\n",
    "my_queue.pop(0)\n",
    "print(my_queue)\n",
    "my_queue.append(\"Milk\")\n",
    "print(my_queue)\n"
   ]
  },
  {
   "cell_type": "code",
   "execution_count": null,
   "metadata": {},
   "outputs": [
    {
     "name": "stdout",
     "output_type": "stream",
     "text": [
      "10\n",
      "20\n",
      "40\n"
     ]
    }
   ],
   "source": [
    "def times_two(x):\n",
    "    return 2*x\n",
    "\n",
    "print (times_two(5))\n",
    "print (times_two(10))\n",
    "print (times_two(20))\n"
   ]
  },
  {
   "cell_type": "code",
   "execution_count": null,
   "metadata": {},
   "outputs": [
    {
     "name": "stdout",
     "output_type": "stream",
     "text": [
      "value of x = 2 and value of = 3\n"
     ]
    }
   ],
   "source": [
    "def side_effect (x,y):\n",
    "    print(f\"value of x = {x} and value of = {y}\")\n",
    "\n",
    "side_effect(2,3)"
   ]
  },
  {
   "cell_type": "code",
   "execution_count": null,
   "metadata": {},
   "outputs": [
    {
     "name": "stdout",
     "output_type": "stream",
     "text": [
      "nicely printing 110\n",
      "nicely printing 420\n",
      "nicely printing 930\n"
     ]
    },
    {
     "data": {
      "text/plain": [
       "930"
      ]
     },
     "execution_count": 37,
     "metadata": {},
     "output_type": "execute_result"
    }
   ],
   "source": [
    "def print_nicely(my_string):\n",
    "    print(f\"nicely printing {my_string}\")\n",
    "    \n",
    "def complex_processing(x):\n",
    "    output_value = x * x + x\n",
    "    print_nicely (output_value)\n",
    "    return output_value\n",
    "\n",
    "complex_processing (10)\n",
    "complex_processing (20)\n",
    "complex_processing (30)"
   ]
  },
  {
   "cell_type": "code",
   "execution_count": null,
   "metadata": {},
   "outputs": [
    {
     "name": "stdout",
     "output_type": "stream",
     "text": [
      "6\n"
     ]
    },
    {
     "data": {
      "text/plain": [
       "12"
      ]
     },
     "execution_count": 42,
     "metadata": {},
     "output_type": "execute_result"
    }
   ],
   "source": [
    "y = 5\n",
    "\n",
    "def times_two(y):\n",
    "    print(y)\n",
    "    return 2*y\n",
    "\n",
    "times_two(6)\n"
   ]
  },
  {
   "cell_type": "code",
   "execution_count": null,
   "metadata": {},
   "outputs": [
    {
     "name": "stdout",
     "output_type": "stream",
     "text": [
      "y = 6\n",
      "y = 5\n"
     ]
    }
   ],
   "source": [
    "y = 5\n",
    "\n",
    "def times_two (x):\n",
    "    y = x\n",
    "    print(f\"y = {y}\")\n",
    "    return 2*y\n",
    "\n",
    "times_two(6)\n",
    "print(f\"y = {y}\")\n"
   ]
  },
  {
   "cell_type": "code",
   "execution_count": 10,
   "metadata": {},
   "outputs": [
    {
     "name": "stdout",
     "output_type": "stream",
     "text": [
      "      |       | \n",
      "      |       | \n",
      "      |       | \n",
      "----------------------\n",
      "      |       | \n",
      "      |       | \n",
      "      |       | \n",
      "----------------------\n",
      "      |       | \n",
      "      |       | \n",
      "      |       | \n"
     ]
    }
   ],
   "source": [
    "\n",
    "pick_number = int(input(\"Please pick a number for size\"))\n",
    "n = (pick_number)\n",
    "\n",
    "for i in range (n):\n",
    "    print(n*\"  \"+\"|\"+n*\"  \"+\" | \")\n",
    "    \n",
    "print((2+3*n)*\"--\")\n",
    "\n",
    "for i in range (n):\n",
    "    print(n*\"  \"+\"|\"+n*\"  \"+\" | \")\n",
    "    \n",
    "print((2+3*n)*\"--\")\n",
    "\n",
    "for i in range (n):\n",
    "    print(n*\"  \"+\"|\"+n*\"  \"+\" | \")\n"
   ]
  },
  {
   "cell_type": "code",
   "execution_count": 35,
   "metadata": {},
   "outputs": [],
   "source": [
    "def double_value(x):\n",
    "    return 4 * x\n",
    "assert double_value(1) >= 2\n",
    "assert double_value(3) >= 4"
   ]
  },
  {
   "cell_type": "code",
   "execution_count": 39,
   "metadata": {},
   "outputs": [
    {
     "name": "stdout",
     "output_type": "stream",
     "text": [
      "error\n",
      "still running\n"
     ]
    }
   ],
   "source": [
    "try:\n",
    "    print(x)\n",
    "except Exception as e:          #Exception for error\n",
    "    print(\"error\")\n",
    "    \n",
    "print(\"still running\")\n"
   ]
  },
  {
   "cell_type": "code",
   "execution_count": null,
   "metadata": {},
   "outputs": [],
   "source": [
    "def half_numbers(x,y):\n",
    "    try:\n",
    "        results = x / y\n",
    "    except ZeroDivisionError as zde:\n",
    "        print(\"You can dont dived by zero\")\n",
    "        "
   ]
  },
  {
   "cell_type": "code",
   "execution_count": 2,
   "metadata": {},
   "outputs": [],
   "source": [
    "real_id = {\"a\", \"b\", \"c\", \"e\", \"f\", \"g\", \"h\"}\n",
    "h = 8\n",
    "def real_id(a):\n",
    "    h = a\n",
    "    print(f\"a = {a}\")\n",
    "    return 2*a  "
   ]
  },
  {
   "cell_type": "code",
   "execution_count": 4,
   "metadata": {},
   "outputs": [],
   "source": [
    "class Car:\n",
    "    pass"
   ]
  },
  {
   "cell_type": "code",
   "execution_count": 8,
   "metadata": {},
   "outputs": [
    {
     "name": "stdout",
     "output_type": "stream",
     "text": [
      "<__main__.Car object at 0x05FD51F8>\n",
      "<__main__.Car object at 0x05FD5930>\n"
     ]
    }
   ],
   "source": [
    "class Car:\n",
    "    def __init__ (self, brand):\n",
    "        self.brand=brand\n",
    "        \n",
    "my_car = Car(brand=\"Toyota\")\n",
    "your_car = Car(brand=\"Mazda\")\n",
    "print(my_car)\n",
    "print(your_car)\n"
   ]
  },
  {
   "cell_type": "code",
   "execution_count": 13,
   "metadata": {},
   "outputs": [
    {
     "name": "stdout",
     "output_type": "stream",
     "text": [
      "{'brand': 'Mazda', 'milage_km': 43103}\n"
     ]
    }
   ],
   "source": [
    "class Car:\n",
    "    def __init__ (self, brand, milage_km):\n",
    "        self.brand=brand\n",
    "        self.milage_km=milage_km\n",
    "    \n",
    "    def drive(self, distance_km):\n",
    "        self.milage_km=self.milage_km + distance_km\n",
    "        \n",
    "my_car = Car(brand=\"Mazda\", milage_km= 40000)\n",
    "\n",
    "my_car.drive(distance_km=1000)\n",
    "my_car.drive(distance_km=1001)\n",
    "my_car.drive(distance_km=1002)\n",
    "my_car.drive(distance_km=100)\n",
    "\n",
    "print(my_car.__dict__)\n",
    "        \n",
    "\n"
   ]
  },
  {
   "cell_type": "code",
   "execution_count": 2,
   "metadata": {},
   "outputs": [
    {
     "name": "stdout",
     "output_type": "stream",
     "text": [
      "{'brand': 'Telsa', 'milage_km': 350, 'range': 500}\n",
      "<__main__.EleccticCar object at 0x00F04048>\n",
      "{'brand': 'Mazda', 'milage_km': 2500, 'fuel_consumption': 50, 'fuel_level': 25}\n",
      "<__main__.ICECar object at 0x00F04378>\n"
     ]
    }
   ],
   "source": [
    "class Car:\n",
    "    def __init__ (self, brand, milage_km):\n",
    "        self.brand=brand\n",
    "        self.milage_km=milage_km\n",
    "    \n",
    "    def drive(self, distance_km):\n",
    "        self.milage_km=self.milage_km + distance_km\n",
    "        \n",
    "class EleccticCar(Car):\n",
    "    def __init__(self, brand, milage_km, range):\n",
    "        super().__init__(brand, milage_km)\n",
    "        self.range=range\n",
    "\n",
    "class ICECar(Car):\n",
    "    def __init__(self, brand, milage_km, fuel_consumption, fuel_level):\n",
    "        super().__init__(brand, milage_km)\n",
    "        self.fuel_consumption=fuel_consumption\n",
    "        self.fuel_level=fuel_level\n",
    "\n",
    "my_ev = EleccticCar(\"Telsa\", 250, 500)\n",
    "my_ev.drive(distance_km=100)\n",
    "\n",
    "my_ICECar = ICECar(\"Mazda\",500, 50, 25)\n",
    "my_ICECar.drive(distance_km=2000)\n",
    "\n",
    "print(my_ev.__dict__)\n",
    "print(my_ev)\n",
    "print(my_ICECar.__dict__)\n",
    "print(my_ICECar)\n"
   ]
  }
 ],
 "metadata": {
  "kernelspec": {
   "display_name": "Python 3",
   "language": "python",
   "name": "python3"
  },
  "language_info": {
   "codemirror_mode": {
    "name": "ipython",
    "version": 3
   },
   "file_extension": ".py",
   "mimetype": "text/x-python",
   "name": "python",
   "nbconvert_exporter": "python",
   "pygments_lexer": "ipython3",
   "version": "3.12.0"
  }
 },
 "nbformat": 4,
 "nbformat_minor": 2
}
